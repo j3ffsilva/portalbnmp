{
 "cells": [
  {
   "cell_type": "code",
   "execution_count": 6,
   "metadata": {},
   "outputs": [],
   "source": [
    "from selenium import webdriver\n",
    "from selenium.webdriver.common.keys import Keys\n",
    "from webdriver_manager.chrome import ChromeDriverManager\n",
    "from selenium.webdriver.common.by import By\n",
    "from http_request_randomizer.requests.proxy.requestProxy import RequestProxy\n",
    "import os, sys\n",
    "import time,requests\n",
    "from bs4 import BeautifulSoup"
   ]
  },
  {
   "cell_type": "code",
   "execution_count": 7,
   "metadata": {},
   "outputs": [],
   "source": [
    "delayTime = 2\n",
    "audioToTextDelay = 10"
   ]
  },
  {
   "cell_type": "code",
   "execution_count": 8,
   "metadata": {},
   "outputs": [],
   "source": [
    "filename = '1.mp3'\n",
    "byPassUrl = 'https://www.google.com/recaptcha/api2/demo'\n",
    "googleIBMLink = 'https://speech-to-text-demo.ng.bluemix.net/'\n",
    "option = webdriver.ChromeOptions()\n",
    "option.add_argument('--disable-notifications')\n",
    "option.add_argument(\"--mute-audio\")"
   ]
  },
  {
   "cell_type": "code",
   "execution_count": 10,
   "metadata": {},
   "outputs": [
    {
     "name": "stderr",
     "output_type": "stream",
     "text": [
      "\n",
      "\n",
      "====== WebDriver manager ======\n",
      "Current google-chrome version is 91.0.4472\n",
      "Get LATEST driver version for 91.0.4472\n",
      "There is no [mac64] chromedriver for browser 91.0.4472 in cache\n",
      "Get LATEST driver version for 91.0.4472\n",
      "Trying to download new driver from https://chromedriver.storage.googleapis.com/91.0.4472.101/chromedriver_mac64.zip\n",
      "Driver has been saved in cache [/Users/jefferson/.wdm/drivers/chromedriver/mac64/91.0.4472.101]\n"
     ]
    },
    {
     "name": "stdout",
     "output_type": "stream",
     "text": [
      "1\n",
      "2\n",
      "3\n",
      "Message: unknown error: path is not absolute: ./1.mp3\n",
      "  (Session info: chrome=91.0.4472.164)\n",
      "\n",
      "Caught. Need to change proxy now\n"
     ]
    }
   ],
   "source": [
    "option = webdriver.ChromeOptions()\n",
    "option.add_argument('--disable-notifications')\n",
    "option.add_argument(\"--mute-audio\")\n",
    "# option.add_experimental_option(\"debuggerAddress\", \"127.0.0.1:9222\")\n",
    "option.add_argument(\"user-agent=Mozilla/5.0 (iPhone; CPU iPhone OS 10_3 like Mac OS X) AppleWebKit/602.1.50 (KHTML, like Gecko) CriOS/56.0.2924.75 Mobile/14E5239e Safari/602.1\")\n",
    "def audioToText(mp3Path):\n",
    "    print(\"1\")\n",
    "    driver.execute_script('''window.open(\"\",\"_blank\");''')\n",
    "    driver.switch_to.window(driver.window_handles[1])\n",
    "    print(\"2\")\n",
    "    driver.get(googleIBMLink)\n",
    "    delayTime = 10\n",
    "    # Upload file\n",
    "    time.sleep(1)\n",
    "    print(\"3\")\n",
    "    # Upload file\n",
    "    time.sleep(1)\n",
    "    root = driver.find_element_by_id('root').find_elements_by_class_name('dropzone _container _container_large')\n",
    "    btn = driver.find_element(By.XPATH, '//*[@id=\"root\"]/div/input')\n",
    "    btn.send_keys('/Users/jefferson/dev/portalbnmp/notebook/1.mp3')\n",
    "    # Audio to text is processing\n",
    "    time.sleep(delayTime)\n",
    "    #btn.send_keys(path)\n",
    "    print(\"4\")\n",
    "    # Audio to text is processing\n",
    "    time.sleep(audioToTextDelay)\n",
    "    print(\"5\")\n",
    "    text = driver.find_element(By.XPATH, '//*[@id=\"root\"]/div/div[7]/div/div/div').find_elements_by_tag_name('span')\n",
    "    print(\"5.1\")\n",
    "    result = \" \".join( [ each.text for each in text ] )\n",
    "    print(\"6\")\n",
    "    driver.close()\n",
    "    driver.switch_to.window(driver.window_handles[0])\n",
    "    print(\"7\")\n",
    "    return result\n",
    "def saveFile(content,filename):\n",
    "    with open(filename, \"wb\") as handle:\n",
    "        for data in content.iter_content():\n",
    "            handle.write(data)\n",
    "driver = webdriver.Chrome(ChromeDriverManager().install(), options=option)\n",
    "driver.get(byPassUrl)\n",
    "time.sleep(1)\n",
    "googleClass = driver.find_elements_by_class_name('g-recaptcha')[0]\n",
    "time.sleep(2)\n",
    "outeriframe = googleClass.find_element_by_tag_name('iframe')\n",
    "time.sleep(1)\n",
    "outeriframe.click()\n",
    "time.sleep(2)\n",
    "allIframesLen = driver.find_elements_by_tag_name('iframe')\n",
    "time.sleep(1)\n",
    "audioBtnFound = False\n",
    "audioBtnIndex = -1\n",
    "for index in range(len(allIframesLen)):\n",
    "    driver.switch_to.default_content()\n",
    "    iframe = driver.find_elements_by_tag_name('iframe')[index]\n",
    "    driver.switch_to.frame(iframe)\n",
    "    driver.implicitly_wait(delayTime)\n",
    "    try:\n",
    "        audioBtn = driver.find_element_by_id('recaptcha-audio-button') or driver.find_element_by_id('recaptcha-anchor')\n",
    "        audioBtn.click()\n",
    "        audioBtnFound = True\n",
    "        audioBtnIndex = index\n",
    "        break\n",
    "    except Exception as e:\n",
    "        pass\n",
    "if audioBtnFound:\n",
    "    try:\n",
    "        while True:\n",
    "            href = driver.find_element_by_id('audio-source').get_attribute('src')\n",
    "            response = requests.get(href, stream=True)\n",
    "            saveFile(response,filename)\n",
    "            response = audioToText(os.getcwd() + '/' + filename)\n",
    "            print(response)\n",
    "            driver.switch_to.default_content()\n",
    "            iframe = driver.find_elements_by_tag_name('iframe')[audioBtnIndex]\n",
    "            driver.switch_to.frame(iframe)\n",
    "            inputbtn = driver.find_element_by_id('audio-response')\n",
    "            inputbtn.send_keys(response)\n",
    "            inputbtn.send_keys(Keys.ENTER)\n",
    "            time.sleep(2)\n",
    "            errorMsg = driver.find_elements_by_class_name('rc-audiochallenge-error-message')[0]\n",
    "            if errorMsg.text == \"\" or errorMsg.value_of_css_property('display') == 'none':\n",
    "                print(\"Success\")\n",
    "                break\n",
    "    except Exception as e:\n",
    "            print(e)\n",
    "            print('Caught. Need to change proxy now')\n",
    "else:\n",
    "    print('Button not found. This should not happen.')"
   ]
  }
 ],
 "metadata": {
  "kernelspec": {
   "display_name": "Python 3",
   "language": "python",
   "name": "python3"
  },
  "language_info": {
   "codemirror_mode": {
    "name": "ipython",
    "version": 3
   },
   "file_extension": ".py",
   "mimetype": "text/x-python",
   "name": "python",
   "nbconvert_exporter": "python",
   "pygments_lexer": "ipython3",
   "version": "3.8.5"
  }
 },
 "nbformat": 4,
 "nbformat_minor": 4
}
